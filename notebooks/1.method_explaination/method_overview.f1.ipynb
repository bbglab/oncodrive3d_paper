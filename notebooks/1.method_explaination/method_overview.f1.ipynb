{
 "cells": [
  {
   "cell_type": "markdown",
   "id": "7bb3711a-6fbf-4e78-8714-eae6894c1a04",
   "metadata": {},
   "source": [
    "# F1: Toy example rank-based empirical p-value"
   ]
  },
  {
   "cell_type": "code",
   "execution_count": 100,
   "id": "c57045d8",
   "metadata": {},
   "outputs": [
    {
     "name": "stdout",
     "output_type": "stream",
     "text": [
      "Working node: irbccn38.hpc.irbbarcelona.pcb.ub.es\n"
     ]
    }
   ],
   "source": [
    "import sys\n",
    "sys.path.append('../../')\n",
    "from global_variables import SUBDIR, RUN, WORKSPACE, colors_dict, names_dict, SUBDIR_CH, RUN_CH\n",
    "import socket\n",
    "print(\"Working node:\", socket.gethostname())"
   ]
  },
  {
   "cell_type": "code",
   "execution_count": 1,
   "id": "c1712161-fbf6-4a70-a0db-b528e48caddf",
   "metadata": {},
   "outputs": [
    {
     "name": "stderr",
     "output_type": "stream",
     "text": [
      "<frozen importlib._bootstrap>:219: RuntimeWarning: scipy._lib.messagestream.MessageStream size changed, may indicate binary incompatibility. Expected 56 from C header, got 64 from PyObject\n"
     ]
    }
   ],
   "source": [
    "import numpy as np\n",
    "import pandas as pd\n",
    "import seaborn as sns\n",
    "import matplotlib.pyplot as plt"
   ]
  },
  {
   "cell_type": "code",
   "execution_count": 4,
   "id": "b16d11fa-b5a5-4d94-bc66-e682653f03da",
   "metadata": {},
   "outputs": [],
   "source": [
    "def get_rank_toy_dist(l, m, n, max_i=5000):\n",
    "    \n",
    "    rank = np.random.uniform(l, m, n)\n",
    "    i = 0\n",
    "    while sum(rank < 0) > 0:\n",
    "        rank = np.random.normal(l, m, n)\n",
    "        i += 1\n",
    "        if i > max_i:\n",
    "            print(\"Max iter reached.\")\n",
    "            return None\n",
    "    \n",
    "    return rank"
   ]
  },
  {
   "cell_type": "code",
   "execution_count": 5,
   "id": "c42cd6e4-6dce-4a3d-98a5-90c933aa3c48",
   "metadata": {},
   "outputs": [],
   "source": [
    "obs_rank = [0.9, 0.8, 0.72, 0.7, 0.68, 0.04]"
   ]
  },
  {
   "cell_type": "code",
   "execution_count": 6,
   "id": "65a55604-b7a3-404e-9212-40f34326eec4",
   "metadata": {},
   "outputs": [],
   "source": [
    "rank1 = get_rank_toy_dist(l=0.25, m=0.58, n=30)\n",
    "rank2 = get_rank_toy_dist(l=0.2, m=0.4, n=30)\n",
    "rank3 = get_rank_toy_dist(l=0.1, m=0.35, n=30)\n",
    "rank4 = get_rank_toy_dist(l=0.06, m=0.25, n=30)\n",
    "rank5 = get_rank_toy_dist(l=0.05, m=0.15, n=30)\n",
    "rank6 = get_rank_toy_dist(l=0, m=0.1, n=30)\n",
    "\n",
    "rank1 = np.append(rank1, [0.84, 0.59, 0.52, 0.54, 0.65, 0.78])\n",
    "rank2 = np.append(rank2, [0.36, 0.48, 0.6, 0.55, 0.68, 0.83])\n",
    "rank3 = np.append(rank3, [0.27, 0.45, 0.63, 0.57, 0.735, 0.79])\n",
    "rank4 = np.append(rank4, [0.4, 0.6, 0.76, 0.47, 0.71, 0.74])\n",
    "rank5 = np.append(rank5, [0.41, 0.29, 0.55, 0.69, 0.72, 0.73])\n",
    "rank6 = np.append(rank6, [0.06, 0.27, 0.16, 0.6, 0.4, 0.5])\n",
    "\n",
    "ranks = [rank1, rank2, rank3, rank4, rank5, rank6]\n",
    "sim_ranks = pd.DataFrame({f\"R{i}\" : ranks[i-1] for i in range(1, 7)})"
   ]
  },
  {
   "cell_type": "code",
   "execution_count": 5,
   "id": "7f68c6c7-83d7-4f0b-935d-386a4a013477",
   "metadata": {},
   "outputs": [
    {
     "name": "stderr",
     "output_type": "stream",
     "text": [
      "/tmp/jobs/spellegrini/10455941/ipykernel_1830/3101764754.py:11: MatplotlibDeprecationWarning: Support for passing numbers through unit converters is deprecated since 3.5 and support will be removed two minor releases later; use Axis.convert_units instead.\n",
      "  sim_patch = plt.scatter([], [], c=\"#629c49\", s=35, label=\"Simulated\", ec=\"k\")\n",
      "/tmp/jobs/spellegrini/10455941/ipykernel_1830/3101764754.py:12: MatplotlibDeprecationWarning: Support for passing numbers through unit converters is deprecated since 3.5 and support will be removed two minor releases later; use Axis.convert_units instead.\n",
      "  obs_patch = plt.scatter([], [], c=\"#FF9900\", s=70, label=\"Observed\", ec=\"k\")\n"
     ]
    },
    {
     "data": {
      "image/png": "[encoded data removed]",
      "text/plain": [
       "<Figure size 230.4x194.4 with 1 Axes>"
      ]
     },
     "metadata": {
      "needs_background": "light"
     },
     "output_type": "display_data"
    }
   ],
   "source": [
    "# Create a box plot with dots on top\n",
    "plt.figure(figsize=(3.2, 2.7))\n",
    "sns.set(style=\"ticks\", rc={'xtick.labelsize': 13, 'ytick.labelsize': 13})\n",
    "\n",
    "# Create a box plot with dots on top\n",
    "sns.boxplot(data=sim_ranks, width=0.7, showfliers=False, orient=\"h\", color=\"lightgray\", zorder=0)\n",
    "sns.stripplot(data=sim_ranks, jitter=True, palette=[\"#629c49\"], size=6, marker=\"o\", \n",
    "              orient=\"h\", linewidth=1, label=\"Simulated\", zorder=1)\n",
    "plt.scatter(x=obs_rank, y=[f\"R{i}\" for i in range(1, 7)], zorder=3, color=\"#FF9900\", ec=\"k\", s=70, label=\"Observed\")\n",
    "\n",
    "sim_patch = plt.scatter([], [], c=\"#629c49\", s=35, label=\"Simulated\", ec=\"k\")\n",
    "obs_patch = plt.scatter([], [], c=\"#FF9900\", s=70, label=\"Observed\", ec=\"k\")\n",
    "plt.legend(handles=[obs_patch ,sim_patch], loc=\"lower center\", bbox_to_anchor=(1.31, 0.3), frameon=False)\n",
    "\n",
    "plt.xticks(np.arange(0, 1.1, 0.25))\n",
    "plt.title(\"Toy example comparison\", fontsize=15)\n",
    "plt.xlabel(\"3D clustering score\", fontsize=13)\n",
    "plt.gca().spines['top'].set_visible(False)\n",
    "plt.gca().spines['right'].set_visible(False)\n",
    "plt.savefig(\"../../figures_and_tables/main/f1/f1.toy_example.png\", dpi=300, bbox_inches='tight')\n",
    "plt.show()"
   ]
  },
  {
   "cell_type": "markdown",
   "id": "e50b9ee1-9073-40c4-8e68-56d5f7485ca3",
   "metadata": {},
   "source": [
    "## Scoring function"
   ]
  },
  {
   "cell_type": "code",
   "execution_count": 7,
   "id": "008db782-be6d-4a13-a807-e724f50ed9ae",
   "metadata": {},
   "outputs": [],
   "source": [
    "import numpy as np\n",
    "import pandas as pd\n",
    "from scipy import stats\n",
    "\n",
    "\n",
    "def get_anomaly_score(vec_mut_in_vol, gene_mut, vec_vol_miss_mut_prob):          \n",
    "    \"\"\"\n",
    "    Compute a metric that scores the anomaly of observing a certain \n",
    "    number of mutations in the volume of a residue.\n",
    "    It takes into account the volume and the mutation rate of the codon \n",
    "    of each residue within that volume.\n",
    "    \n",
    "    Score: loglik equal or larger mut_count / loglik(N)\n",
    "    \"\"\"\n",
    "    \n",
    "    den = stats.binom.logpmf(k=gene_mut, n=gene_mut, p=vec_vol_miss_mut_prob)\n",
    "\n",
    "    return stats.binom.logsf(k=vec_mut_in_vol-1, n=gene_mut, p=vec_vol_miss_mut_prob) / den"
   ]
  },
  {
   "cell_type": "code",
   "execution_count": 9,
   "id": "ced7c90c",
   "metadata": {},
   "outputs": [
    {
     "data": {
      "image/png": "[encoded data removed]",
      "text/plain": [
       "<Figure size 400x250 with 1 Axes>"
      ]
     },
     "metadata": {},
     "output_type": "display_data"
    }
   ],
   "source": [
    "s = 2\n",
    "N=6\n",
    "df = pd.DataFrame([(i, stats.binom.pmf(k=i, n=N, p=1/N)) for i in range(N+1)], columns=[\"Mut_in_vol\", \"Probability\"])\n",
    "\n",
    "df.plot(x=\"Mut_in_vol\", y=\"Probability\", figsize=(4, 2.5))\n",
    "plt.fill_between(range(s+1, N+1), df[\"Probability\"][s+1:], np.repeat(0, N-s), color=\"#ff4d4d\", label=\"P(n ≥ obs)\")\n",
    "\n",
    "# Legend\n",
    "handles, labels = plt.gca().get_legend_handles_labels()\n",
    "\n",
    "\n",
    "plt.ylabel(\"Prob of $\\it{s}$ mut hit the volume\\n$\\it{P(s; N=10, p=0.1)}$\", fontsize=14)\n",
    "plt.ylabel(\" Probability\\n$\\it{binom(n; N, p)}$\", fontsize=14)\n",
    "plt.xlabel(\"Mutations in volume ($\\it{n}$)\", fontsize=14)\n",
    "plt.xticks(range(len(df)), fontsize=13)\n",
    "plt.yticks(np.arange(0, 0.5, 0.1), fontsize=13)\n",
    "plt.gca().spines['top'].set_visible(False)\n",
    "plt.gca().spines['right'].set_visible(False)\n",
    "plt.legend(fontsize=13)\n",
    "plt.savefig(\"../../figures_and_tables/main/f1/f1.binomial_probability.png\", dpi=900, bbox_inches='tight', transparent=True)\n",
    "plt.show()"
   ]
  },
  {
   "cell_type": "code",
   "execution_count": 94,
   "id": "d0fa5bd0",
   "metadata": {},
   "outputs": [
    {
     "data": {
      "image/png": "[encoded data removed]",
      "text/plain": [
       "<Figure size 400x250 with 1 Axes>"
      ]
     },
     "metadata": {},
     "output_type": "display_data"
    }
   ],
   "source": [
    "import pandas as pd\n",
    "import numpy as np\n",
    "import matplotlib.pyplot as plt\n",
    "from scipy import stats\n",
    "\n",
    "# Parameters\n",
    "s = 3        # observed threshold\n",
    "N = 6        # number of trials\n",
    "p = 1 / N    # success probability\n",
    "\n",
    "# Build the DataFrame\n",
    "df = pd.DataFrame({\n",
    "    \"Mut_in_vol\": np.arange(N + 1),\n",
    "    \"Probability\": stats.binom.pmf(np.arange(N + 1), n=N, p=p)\n",
    "})\n",
    "\n",
    "# Make the last two bars more visible\n",
    "df.loc[4, \"Probability\"] += 0.0045\n",
    "df.loc[5, \"Probability\"] += 0.004\n",
    "df.loc[6, \"Probability\"] += 0.003\n",
    "\n",
    "# Create bar plot\n",
    "fig, ax = plt.subplots(figsize=(4, 2.5))\n",
    "ax.bar(\n",
    "    df[\"Mut_in_vol\"],\n",
    "    df[\"Probability\"],\n",
    "    color=\"skyblue\",\n",
    "    edgecolor=\"k\",\n",
    "    lw=0.5\n",
    ")\n",
    "mask = df[\"Mut_in_vol\"] >= s\n",
    "ax.bar(\n",
    "    df[\"Mut_in_vol\"][mask],\n",
    "    df[\"Probability\"][mask],\n",
    "    color=\"#ff4d4d\",\n",
    "    edgecolor=\"k\",\n",
    "    lw=0.5\n",
    ")\n",
    "\n",
    "# Axes labels and ticks\n",
    "ax.set_xlabel(\"Mutations in volume ($n$)\", fontsize=14)\n",
    "ax.set_ylabel(\"Probability\\n$\\\\mathrm{binom}(n; N, p)$\", fontsize=14)\n",
    "ax.set_xticks(df[\"Mut_in_vol\"])\n",
    "ax.tick_params(axis='x', labelsize=13)\n",
    "ax.tick_params(axis='y', labelsize=13)\n",
    "\n",
    "# Remove top/right spines\n",
    "ax.spines['top'].set_visible(False)\n",
    "ax.spines['right'].set_visible(False)\n",
    "\n",
    "# Draw the horizontal bracket line\n",
    "ymax = df[\"Probability\"][mask].max()\n",
    "x0, x1 = s, N\n",
    "y = ymax + 0.03\n",
    "ax.annotate(\n",
    "    '', \n",
    "    xy=(x0-0.06, y), \n",
    "    xytext=(x1+0.06, y),\n",
    "    arrowprops=dict(\n",
    "        arrowstyle='-',\n",
    "        lw=0.5,\n",
    "        color='black'\n",
    "    )\n",
    ")\n",
    "\n",
    "# Add short vertical ticks at each end\n",
    "tick_len = 0.01  # length of the ticks downward\n",
    "ax.plot([x0, x0], [y, y - tick_len], color='black', lw=1)\n",
    "ax.plot([x1, x1], [y, y - tick_len], color='black', lw=1)\n",
    "\n",
    "# Label the bracket with Unicode ≥\n",
    "xm = 0.5 * (x0 + x1)\n",
    "ax.text(\n",
    "    xm, \n",
    "    y + 0.01,\n",
    "    'P(n ≥ obs)',\n",
    "    ha='center',\n",
    "    va='bottom',\n",
    "    fontsize=13,\n",
    "    color='black'\n",
    ")\n",
    "\n",
    "# Final layout and save\n",
    "plt.tight_layout()\n",
    "plt.savefig(\n",
    "    \"../../figures_and_tables/main/f1/f1.binomial_probability.png\",\n",
    "    dpi=900,\n",
    "    bbox_inches='tight',\n",
    "    transparent=True\n",
    ")\n",
    "plt.show()\n",
    "\n"
   ]
  },
  {
   "cell_type": "markdown",
   "id": "c78f9e12",
   "metadata": {},
   "source": [
    "## Mutational profile"
   ]
  },
  {
   "cell_type": "code",
   "execution_count": 104,
   "id": "4748a721",
   "metadata": {},
   "outputs": [],
   "source": [
    "import json\n",
    "import numpy as np\n",
    "from collections import defaultdict\n",
    "import matplotlib.pyplot as plt"
   ]
  },
  {
   "cell_type": "code",
   "execution_count": 115,
   "id": "32cf8cdb",
   "metadata": {},
   "outputs": [],
   "source": [
    "mut_profile_path = f\"{WORKSPACE}/projects/clustering_3d/o3d_analysys/datasets/input/cancer_202404/mut_profile\"\n",
    "mut_profile_path = f\"{mut_profile_path}/TCGA_WXS_COADREAD.sig.json\"\n",
    "\n",
    "with open(mut_profile_path, \"r\") as f:\n",
    "    mut_profile_192 = json.load(f)"
   ]
  },
  {
   "cell_type": "code",
   "execution_count": 117,
   "id": "490b079b",
   "metadata": {},
   "outputs": [
    {
     "data": {
      "text/plain": [
       "{'ACA>A': 0.0029187580939583073,\n",
       " 'ACC>A': 0.003452663638254553,\n",
       " 'ACG>A': 0.002304776222472677,\n",
       " 'ACT>A': 0.002173132030791815,\n",
       " 'CCA>A': 0.0025146096696789812,\n",
       " 'CCC>A': 0.0024397629445582223,\n",
       " 'CCG>A': 0.002880782257042729,\n",
       " 'CCT>A': 0.002782866527935634,\n",
       " 'GCA>A': 0.004199799544852742,\n",
       " 'GCC>A': 0.002245210202146067,\n",
       " 'GCG>A': 0.0029013560071409097,\n",
       " 'GCT>A': 0.0027091988570845135,\n",
       " 'TCA>A': 0.003580557388374486,\n",
       " 'TCC>A': 0.002943670940687428,\n",
       " 'TCG>A': 0.003921999979568487,\n",
       " 'TCT>A': 0.004216736360646512,\n",
       " 'ACA>G': 0.0010658386298162358,\n",
       " 'ACC>G': 0.001199546741967115,\n",
       " 'ACG>G': 0.0012100075167981554,\n",
       " 'ACT>G': 0.001800788536419386,\n",
       " 'CCA>G': 0.0007121668261572589,\n",
       " 'CCC>G': 0.0008288638026618146,\n",
       " 'CCG>G': 0.0009965496761281533,\n",
       " 'CCT>G': 0.0009891900195169437,\n",
       " 'GCA>G': 0.0005919806239692543,\n",
       " 'GCC>G': 0.001048610414561628,\n",
       " 'GCG>G': 0.0005979145825526876,\n",
       " 'GCT>G': 0.0009707227175221383,\n",
       " 'TCA>G': 0.001923597320350123,\n",
       " 'TCC>G': 0.0013403831076922257,\n",
       " 'TCG>G': 0.0013299515501650925,\n",
       " 'TCT>G': 0.0031089496896292076,\n",
       " 'ACA>T': 0.0041376402193379,\n",
       " 'ACC>T': 0.00395406148278049,\n",
       " 'ACG>T': 0.11312129796923708,\n",
       " 'ACT>T': 0.0038114434060305047,\n",
       " 'CCA>T': 0.003527795463593432,\n",
       " 'CCC>T': 0.004031930701083742,\n",
       " 'CCG>T': 0.05929051854611198,\n",
       " 'CCT>T': 0.0033164545052684256,\n",
       " 'GCA>T': 0.0038921560709789553,\n",
       " 'GCC>T': 0.004837138363945575,\n",
       " 'GCG>T': 0.07826799904398704,\n",
       " 'GCT>T': 0.0040196745257394,\n",
       " 'TCA>T': 0.005599382298840952,\n",
       " 'TCC>T': 0.004499549724857503,\n",
       " 'TCG>T': 0.05845001353633728,\n",
       " 'TCT>T': 0.003944256574630159,\n",
       " 'ATA>A': 0.0010635316048048914,\n",
       " 'ATC>A': 0.0012880316428685009,\n",
       " 'ATG>A': 0.0008449179301663699,\n",
       " 'ATT>A': 0.001369191248719071,\n",
       " 'CTA>A': 0.0010419752519255643,\n",
       " 'CTC>A': 0.0008771932344686737,\n",
       " 'CTG>A': 0.0008313664565873193,\n",
       " 'CTT>A': 0.0013835540583564782,\n",
       " 'GTA>A': 0.0008775731068655295,\n",
       " 'GTC>A': 0.0009439159749700352,\n",
       " 'GTG>A': 0.0007246226059617064,\n",
       " 'GTT>A': 0.001147384919274223,\n",
       " 'TTA>A': 0.0013550247862868573,\n",
       " 'TTC>A': 0.0007436217716678717,\n",
       " 'TTG>A': 0.0007464823309972872,\n",
       " 'TTT>A': 0.0012972116377388805,\n",
       " 'ATA>C': 0.003868335542966811,\n",
       " 'ATC>C': 0.0024401403485498734,\n",
       " 'ATG>C': 0.002618720789770302,\n",
       " 'ATT>C': 0.0034122253109438623,\n",
       " 'CTA>C': 0.0024149308779921903,\n",
       " 'CTC>C': 0.0027057701759730236,\n",
       " 'CTG>C': 0.00191998592992996,\n",
       " 'CTT>C': 0.003058626195898435,\n",
       " 'GTA>C': 0.0034115654529397457,\n",
       " 'GTC>C': 0.0032968659415620067,\n",
       " 'GTG>C': 0.0018891946512573062,\n",
       " 'GTT>C': 0.003579840948135575,\n",
       " 'TTA>C': 0.002607568706383952,\n",
       " 'TTC>C': 0.0017580687564740427,\n",
       " 'TTG>C': 0.0014708466670020621,\n",
       " 'TTT>C': 0.0015776898296824223,\n",
       " 'ATA>G': 0.0008028620938233005,\n",
       " 'ATC>G': 0.0004660214989272968,\n",
       " 'ATG>G': 0.0005667772450805462,\n",
       " 'ATT>G': 0.000874561949443595,\n",
       " 'CTA>G': 0.0006497022159065283,\n",
       " 'CTC>G': 0.0007375405802249048,\n",
       " 'CTG>G': 0.0006525442376232544,\n",
       " 'CTT>G': 0.00271158086353477,\n",
       " 'GTA>G': 0.0006691494939849662,\n",
       " 'GTC>G': 0.00045143807498566896,\n",
       " 'GTG>G': 0.0007401502332323145,\n",
       " 'GTT>G': 0.001277421876791968,\n",
       " 'TTA>G': 0.0011045160022674382,\n",
       " 'TTC>G': 0.0006472263568220365,\n",
       " 'TTG>G': 0.0007022463410122628,\n",
       " 'TTT>G': 0.001778031395356381}"
      ]
     },
     "execution_count": 117,
     "metadata": {},
     "output_type": "execute_result"
    }
   ],
   "source": [
    "from itertools import product\n",
    "\n",
    "def make_96_contexts():\n",
    "    \"\"\"\n",
    "    Build the list of 96 canonical trinucleotide contexts:\n",
    "      for each substitution in C>A, C>G, C>T, T>A, T>C, T>G\n",
    "      enumerate all 16 flanking pairs.\n",
    "    \"\"\"\n",
    "    subs = [('C','A'), ('C','G'), ('C','T'),\n",
    "            ('T','A'), ('T','C'), ('T','G')]\n",
    "    bases = 'ACGT'\n",
    "    return [\n",
    "        f\"{l}{ref}{r}>{alt}\"\n",
    "        for ref, alt in subs\n",
    "        for l, r in product(bases, repeat=2)\n",
    "    ]\n",
    "\n",
    "def convert_192_to_96(mut_profile_192):\n",
    "    \"\"\"\n",
    "    Filter a 192-entry dict down to the 96 canonical pyrimidine contexts,\n",
    "    in the standard order.\n",
    "    \n",
    "    Parameters\n",
    "    ----------\n",
    "    mut_profile_192 : dict\n",
    "        Keys like 'ACA>G' or their reverse‐complements, values are rates/counts.\n",
    "    \n",
    "    Returns\n",
    "    -------\n",
    "    dict\n",
    "        A 96-entry dict in which each key is one of the canonical\n",
    "        trinucleotide contexts and each value is pulled directly\n",
    "        from the input dict.\n",
    "    \"\"\"\n",
    "    ctx96 = make_96_contexts()\n",
    "    return {ctx: mut_profile_192[ctx] for ctx in ctx96}\n",
    "\n",
    "mut_profile_96 = convert_192_to_96(mut_profile_192)\n",
    "mut_profile_96"
   ]
  },
  {
   "cell_type": "code",
   "execution_count": 208,
   "id": "a6eb7dc0",
   "metadata": {},
   "outputs": [
    {
     "data": {
      "image/png": "[encoded data removed]",
      "text/plain": [
       "<Figure size 350x200 with 1 Axes>"
      ]
     },
     "metadata": {},
     "output_type": "display_data"
    }
   ],
   "source": [
    "import numpy as np\n",
    "import pandas as pd\n",
    "import matplotlib.pyplot as plt\n",
    "\n",
    "# --- your 96-channel data ---\n",
    "heights = pd.Series(mut_profile_96.values())\n",
    "heights.iloc[[34,38,42,46]] *= 0.08\n",
    "channels = np.arange(96)\n",
    "\n",
    "# --- colors & labels ---\n",
    "section_colors = ['#86CFF9', '#000000', '#EE2D2C',\n",
    "                  '#E0E0E0', '#A3CD5B', '#FFAFBA']\n",
    "section_labels =   ['C>A',      'C>G',     'C>T',\n",
    "                    'T>A',      'T>C',     'T>G']\n",
    "\n",
    "# --- plot bars ---\n",
    "fig, ax = plt.subplots(figsize=(3.5,2))\n",
    "for i, color in enumerate(section_colors):\n",
    "    start, end = i*16, (i+1)*16\n",
    "    ax.bar(channels[start:end],\n",
    "           heights[start:end],\n",
    "           color=color,\n",
    "           width=1.0,\n",
    "           edgecolor='none')\n",
    "\n",
    "# --- draw the big stripe with in-block labels ---\n",
    "stripe_y   = heights.max()*1.06\n",
    "stripe_h   = heights.max()*0.19   # thicker so text fits\n",
    "for i, (col, lbl) in enumerate(zip(section_colors, section_labels)):\n",
    "    x0 = i*16\n",
    "    # Draw colored block\n",
    "    ax.add_patch( plt.Rectangle(\n",
    "        (x0, stripe_y),\n",
    "        16, stripe_h,\n",
    "        color=col,\n",
    "        transform=ax.transData,\n",
    "        clip_on=False\n",
    "    ))\n",
    "    # White label in the middle\n",
    "    ax.text(x0 + 8,          # center of block\n",
    "            -0.0002 + stripe_y + stripe_h/2, \n",
    "            lbl,\n",
    "            ha='center', va='center',\n",
    "            color='white',\n",
    "            fontsize=13,\n",
    "            fontweight='bold',\n",
    "            transform=ax.transData,\n",
    "            clip_on=False)\n",
    "\n",
    "# --- clean up ---\n",
    "ax.set_xlim(-0.5, 95.5)\n",
    "ax.set_ylim(0, stripe_y + stripe_h*1.1)\n",
    "ax.axis('off')\n",
    "\n",
    "plt.savefig(\n",
    "    \"../../figures_and_tables/main/f1/f1.mut_profile.png\",\n",
    "    dpi=900,\n",
    "    bbox_inches='tight',\n",
    "    transparent=True\n",
    ")\n",
    "plt.tight_layout()\n",
    "plt.show()\n"
   ]
  }
 ],
 "metadata": {
  "kernelspec": {
   "display_name": "o3d_nb",
   "language": "python",
   "name": "python3"
  },
  "language_info": {
   "codemirror_mode": {
    "name": "ipython",
    "version": 3
   },
   "file_extension": ".py",
   "mimetype": "text/x-python",
   "name": "python",
   "nbconvert_exporter": "python",
   "pygments_lexer": "ipython3",
   "version": "3.8.19"
  }
 },
 "nbformat": 4,
 "nbformat_minor": 5
}
