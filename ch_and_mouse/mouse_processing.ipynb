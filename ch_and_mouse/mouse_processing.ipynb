{
 "cells": [
  {
   "cell_type": "markdown",
   "id": "21688689-7a7a-4aab-8260-f6d2ef6bb21c",
   "metadata": {},
   "source": [
    "# Liver mouse preprocessing"
   ]
  },
  {
   "cell_type": "code",
   "execution_count": 2,
   "id": "2b9c53e9-f9a9-4358-b109-42efe8107d14",
   "metadata": {},
   "outputs": [],
   "source": [
    "import pandas as pd"
   ]
  },
  {
   "cell_type": "code",
   "execution_count": null,
   "id": "77bb3ffc-70d7-40a8-9643-c8e3e78d25db",
   "metadata": {},
   "outputs": [],
   "source": []
  },
  {
   "cell_type": "markdown",
   "id": "f2a9fe4b-691e-47fa-a16b-faaf6894ab3b",
   "metadata": {},
   "source": [
    "## Parse .txt file to .vcf for VEP (if not using liftover)"
   ]
  },
  {
   "cell_type": "code",
   "execution_count": null,
   "id": "d3393e21-4d4e-4088-b439-5ee958a75a90",
   "metadata": {},
   "outputs": [],
   "source": [
    "def sort_vcf(vcf_file):\n",
    "    \"\"\"\n",
    "    Sort the vcf file from by chromosomes and position.\n",
    "    \"\"\"\n",
    "    \n",
    "    df = pd.DataFrame(vcf_file)\n",
    "\n",
    "    # Define the custom sort order for Chromosome\n",
    "    chromosome_order = {'1': 1, '2': 2, '3': 3, '4': 4, '5': 5, '6': 6, '7': 7, '8': 8, '9': 9, '10': 10,\n",
    "                        '11': 11, '12': 12, '13': 13, '14': 14, '15': 15, '16': 16, '17': 17, '18': 18, '19': 19,\n",
    "                        '20': 20, '21': 21, 'X': 22, 'Y': 23, 'M': 24}\n",
    "\n",
    "    # Convert 'Chromosome' column to a temporary categorical column for sorting\n",
    "    df['#CHROM'] = df['#CHROM'].astype(str)\n",
    "    df['Chromosome_sort'] = df['#CHROM'].map(chromosome_order)\n",
    "    # Sort and drop temporary col\n",
    "    sorted_df = df.sort_values(by=['Chromosome_sort', 'POS'], ignore_index=True)\n",
    "    sorted_df.drop('Chromosome_sort', axis=1, inplace=True)\n",
    "\n",
    "    return sorted_df.reset_index(drop=True)"
   ]
  },
  {
   "cell_type": "code",
   "execution_count": null,
   "id": "5c1b3083-b2ad-42b5-8fff-74e0fe6e5933",
   "metadata": {},
   "outputs": [],
   "source": [
    "path_input = \"../Liver_DEN_strelka_July2017_mm10.txt\"\n",
    "path_output = \"liver_strelka_mm39.vcf\"\n",
    "\n",
    "mouse_df = pd.read_csv(path_input, sep=\"\\t\")\n",
    "mouse_df = mouse_df[[\"CHROMOSOME\", \"POSITION\", \"SAMPLE\", \"REF\", \"ALT\"]]\n",
    "mouse_df = mouse_df.rename(columns={\"CHROMOSOME\" : \"#CHROM\",\n",
    "                                    \"POSITION\" : \"POS\",\n",
    "                                    \"SAMPLE\" : \"ID\"})\n",
    "mouse_df = sort_vcf(mouse_df)\n",
    "mouse_df.to_csv(fpath_output, sep=\"\\t\", index=False)"
   ]
  },
  {
   "cell_type": "markdown",
   "id": "d72b24fc-8c46-44f0-aa11-4f6a6e9e9a47",
   "metadata": {},
   "source": [
    "## Liftover from mm10 to mm39"
   ]
  },
  {
   "cell_type": "code",
   "execution_count": null,
   "id": "8ed25622-7801-42ca-89d3-ca0ad035abfd",
   "metadata": {},
   "outputs": [],
   "source": [
    "import pandas as pd\n",
    "import numpy as np\n",
    "import sys\n",
    "from pyliftover import LiftOver\n",
    "\n",
    "\n",
    "# Convert coordinates\n",
    "def liftover_vcf(df, path_chain_file):\n",
    "    \n",
    "    lo = LiftOver(path_chain_file)\n",
    "\n",
    "    df['CHROM_mm39'] = np.nan\n",
    "    df['POS_mm39'] = np.nan\n",
    "    for index, row in df.iterrows():\n",
    "        chrom = f\"chr{str(row['CHROMOSOME']).lower()}\"\n",
    "        pos = int(row['POSITION'])\n",
    "        \n",
    "        # Perform liftover\n",
    "        result = lo.convert_coordinate(chrom, pos - 1)  # convert to 0-based for liftover\n",
    "        if result:\n",
    "            new_chrom, new_pos = result[0][0], result[0][1] + 1  # convert back to 1-based\n",
    "            df.at[index, 'CHROM_mm39'] = new_chrom\n",
    "            df.at[index, 'POS_mm39'] = new_pos\n",
    "        else:\n",
    "            df.at[index, 'CHROM_mm39'] = np.nan\n",
    "            df.at[index, 'POS_mm39'] = np.nan\n",
    "            \n",
    "    if (index + 1) % 1000 == 0:\n",
    "            print(f\"Processed {index + 1} rows\")\n",
    "            \n",
    "    return df\n",
    "\n",
    "\n",
    "def main(input_path, chain_file_path, output_path):\n",
    "    \n",
    "    # Load VCF\n",
    "    print(\"Loading mutations..\")\n",
    "    vcf_df = pd.read_table(input_path, low_memory=False)\n",
    "\n",
    "    # Liftover\n",
    "    print(\"Starting liftover..\")\n",
    "    vcf_mm39 = liftover_vcf(vcf_df, chain_file_path)\n",
    "\n",
    "    # Filter out unmapped entries\n",
    "    print(\"Filtering NAs..\")\n",
    "    len_a = len(vcf_mm39)\n",
    "    vcf_mm39 = vcf_mm39.dropna(subset=['CHROM_mm39', 'POS_mm39'])\n",
    "    len_b = len(vcf_mm39)\n",
    "    print(f\"Filtered {len_a - len_b} NAs\")\n",
    "\n",
    "    # Save to new VCF file\n",
    "    vcf_mm39['#CHROM'] = vcf_mm39['CHROM_mm39'].str.replace(\"chr\", \"\").astype(int)\n",
    "    vcf_mm39['POS'] = vcf_mm39['POS_mm39'].astype(int)\n",
    "    vcf_mm39 = vcf_mm39.rename(columns={\"SAMPLE\" : \"ID\"})\n",
    "    output_columns = ['#CHROM', 'POS', 'ID', 'REF', 'ALT']\n",
    "    print(\"Saving..\")\n",
    "    vcf_mm39[output_columns].to_csv(output_path, sep='\\t', index=False)\n",
    "\n",
    "\n",
    "# if __name__ == '__main__':\n",
    "#     input_path = sys.argv[1]\n",
    "#     chain_file_path = sys.argv[2]\n",
    "#     output_path = sys.argv[3]\n",
    "    \n",
    "#     print(\"Input:\", input_path)\n",
    "#     print(\"Chain:\", chain_file_path)\n",
    "#     print(\"Output:\", output_path)\n",
    "    \n",
    "#     main(input_path, chain_file_path, output_path)\n",
    "    \n",
    "main(\"Liver_DEN_strelka_July2017_mm10.txt\", \"mm10ToMm39.over.chain.gz\", \"liver_strelka_mm39.vcf\")"
   ]
  },
  {
   "cell_type": "code",
   "execution_count": null,
   "id": "8f130964-940c-49a2-a7fd-00d4327f55b1",
   "metadata": {},
   "outputs": [],
   "source": [
    "python3 liftover.py Liver_DEN_strelka_July2017_mm10.txt mm10ToMm39.over.chain.gz liver_strelka_mm39.vcf"
   ]
  },
  {
   "cell_type": "markdown",
   "id": "1fd75226-f58c-414f-9b09-3e40a4c2f4ad",
   "metadata": {},
   "source": [
    "## Run VEP and parser"
   ]
  },
  {
   "cell_type": "code",
   "execution_count": null,
   "id": "e9298aef-75e1-47bb-b517-8468a2cbc11e",
   "metadata": {},
   "outputs": [],
   "source": [
    "/workspace/projects/clustering_3d/clustering_3d/build/preprocessing/vep_and_parse_mouse.sh liver_strelka_mm39.vcf liver_strelka_mm39.in.maf"
   ]
  },
  {
   "cell_type": "markdown",
   "id": "77b229fa-2009-455b-9c63-043f8fc1148c",
   "metadata": {},
   "source": [
    "## Convert tsv for VEP to tsv for bgsignature"
   ]
  },
  {
   "cell_type": "code",
   "execution_count": null,
   "id": "b37c2140-6e7f-48ab-9605-be006e9a7f29",
   "metadata": {},
   "outputs": [],
   "source": [
    "path_input = \"liver_strelka_mm39.vcf\"\n",
    "path_output = \"liver_strelka_mm39.in.tsv.gz\"\n",
    "\n",
    "df = pd.read_table(path_input)\n",
    "df = df.rename(columns={\"#CHROM\" : \"CHROMOSOME\",\n",
    "                           \"POS\" : \"POSITION\",\n",
    "                           \"ID\" : \"SAMPLE\"})\n",
    "df[\"SAMPLE\"] = df.pop(\"SAMPLE\")\n",
    "\n",
    "df.to_csv(path_output, sep=\"\\t\", compression=\"gzip\", index=False)"
   ]
  },
  {
   "cell_type": "markdown",
   "id": "0a7d6463-49fb-4481-a097-c24d89a3c4ce",
   "metadata": {},
   "source": [
    "## Generate mut profile"
   ]
  },
  {
   "cell_type": "markdown",
   "id": "c8e5c7e0-ec09-4177-999e-dd2bb74242c0",
   "metadata": {},
   "source": [
    "### Get regions file"
   ]
  },
  {
   "cell_type": "code",
   "execution_count": 1,
   "id": "812257d7-a5c3-4cd1-87c9-aea7912e33ee",
   "metadata": {},
   "outputs": [],
   "source": [
    "import sys\n",
    "from bgreference import refseq\n",
    "\n",
    "CHR = [str(i) for i in range(1, 20)] + ['X', 'Y', 'M']\n",
    "\n",
    "\n",
    "def compute_sizes(genome, kmer):\n",
    "    sizes = []\n",
    "    for chr_ in CHR:\n",
    "        seq = refseq(genome, f\"chr{chr_}\", start=(1 + kmer // 2), size=None)\n",
    "        sizes.append(tuple(map(str, (chr_, 1 + kmer // 2, len(seq) - kmer // 2))))\n",
    "    return sizes\n",
    "\n",
    "\n",
    "def write(sizes):\n",
    "    print('\\t'.join(('CHROMOSOME', 'START', 'END')))\n",
    "    for s in sizes:\n",
    "        print('\\t'.join(s))\n",
    "\n",
    "# if __name__ == '__main__':\n",
    "#     genome = sys.argv[1]\n",
    "#     kmer = int(sys.argv[2])\n",
    "#     write(compute_sizes(genome, kmer))\n",
    "\n",
    "write(compute_sizes(genome=\"mm39\", kmer=3))"
   ]
  },
  {
   "cell_type": "code",
   "execution_count": null,
   "id": "6d08c05f-898a-485b-864f-24b5e6488370",
   "metadata": {},
   "outputs": [],
   "source": [
    "python3 /workspace/projects/clustering_3d/o3d_analysys/datasets/input/cancer_mouse/raw_data/liver_strelka_mm39/get_regions_file.py mm39 3 > mm39_wg_regions.tsv"
   ]
  },
  {
   "cell_type": "markdown",
   "id": "66cbd451-dda5-4941-8546-1813facfdaf3",
   "metadata": {},
   "source": [
    "### Run bgsignature content"
   ]
  },
  {
   "cell_type": "code",
   "execution_count": null,
   "id": "54841f3a-7b7c-49f2-b42a-2666a23e49fa",
   "metadata": {},
   "outputs": [],
   "source": [
    "conda env activate bgsignature\n",
    "\n",
    "bgsignature count -r mm39_wg_regions.tsv -s 3 -g mm39 --exclude-N --collapse -o wg.counts.gz --cores 8"
   ]
  },
  {
   "cell_type": "markdown",
   "id": "cf0d5b99-a746-44b0-9e68-974e664bc28d",
   "metadata": {},
   "source": [
    "### Run bgsignature normalizer"
   ]
  },
  {
   "cell_type": "code",
   "execution_count": null,
   "id": "06a0ea38-cab4-482d-98a8-541b730d1c66",
   "metadata": {},
   "outputs": [],
   "source": [
    "bgsignature normalize -m liver_strelka_mm39.in.tsv.gz -r mm39_wg_regions.tsv --normalize wg.counts.gz -s 3 -g mm39 --collapse --cores 8 -o liver_strelka_mm39.sig.json"
   ]
  }
 ],
 "metadata": {
  "kernelspec": {
   "display_name": "o3d_nb",
   "language": "python",
   "name": "o3d_nb"
  },
  "language_info": {
   "codemirror_mode": {
    "name": "ipython",
    "version": 3
   },
   "file_extension": ".py",
   "mimetype": "text/x-python",
   "name": "python",
   "nbconvert_exporter": "python",
   "pygments_lexer": "ipython3",
   "version": "3.8.19"
  }
 },
 "nbformat": 4,
 "nbformat_minor": 5
}
