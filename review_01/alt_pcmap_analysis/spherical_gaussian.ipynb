{
 "cells": [
  {
   "cell_type": "code",
   "execution_count": 3,
   "metadata": {},
   "outputs": [
    {
     "name": "stderr",
     "output_type": "stream",
     "text": [
      "<frozen importlib._bootstrap>:219: RuntimeWarning: scipy._lib.messagestream.MessageStream size changed, may indicate binary incompatibility. Expected 56 from C header, got 64 from PyObject\n"
     ]
    }
   ],
   "source": [
    "from math import pi\n",
    "import numpy as np\n",
    "import gzip\n",
    "from scipy.stats import multivariate_normal"
   ]
  },
  {
   "cell_type": "markdown",
   "metadata": {},
   "source": [
    "# Problem 1: \n",
    "# find $\\sigma$ such that $E(\\|x\\|)=d$, where $x\\sim \\mathcal{N}(\\vec 0, \\sigma^2 I_n)$\n",
    "\n",
    "The theoretical solution is given by the expression:\n",
    "\n",
    "$$ E(\\|x\\|) = \\sigma \\sqrt{2} \\frac{\\Gamma((n+1)/2)}{\\Gamma(n/2)}$$\n",
    "\n",
    "See for example: see https://stats.stackexchange.com/questions/144893/what-is-the-expected-norm-mathbb-e-lvert-x-rvert-for-a-multivariate-normal\n",
    "\n",
    "Therefore, for $E(\\|x\\|)=d$ and $n=3$ we have the following calculation of $\\sigma$:\n",
    "\n",
    "$$\\sigma = \\frac{\\Gamma(3/2)}{\\sqrt{2}}d = \\frac{\\sqrt{\\pi}}{2\\sqrt{2}}d$$"
   ]
  },
  {
   "cell_type": "code",
   "execution_count": 4,
   "metadata": {},
   "outputs": [],
   "source": [
    "def get_sigma_square(d):\n",
    "    return d ** 2 * pi / 8\n",
    "\n",
    "def get_spherical_gaussian(d):\n",
    "    mu = [0., 0., 0.]\n",
    "    sigma_square = get_sigma_square(d)\n",
    "    cov = [[sigma_square, 0., 0.], [0., sigma_square, 0.], [0., 0., sigma_square]]\n",
    "    return multivariate_normal(mu, cov)"
   ]
  },
  {
   "cell_type": "code",
   "execution_count": 5,
   "metadata": {},
   "outputs": [],
   "source": [
    "# Sanity check\n",
    "\n",
    "pae = 5  # input distance\n",
    "k = 100000  # number of randomizations\n",
    "eps = 1e-2  # tolerance\n",
    "\n",
    "dist = get_spherical_gaussian(pae)\n",
    "distances = [np.sqrt(np.dot(x,x)) for x in dist.rvs(size=k)]\n",
    "assert(abs(np.mean(distances) - pae) < eps)"
   ]
  },
  {
   "cell_type": "markdown",
   "metadata": {},
   "source": [
    "# Problem 2:\n",
    "# compute the probability mass of $\\mathcal{N}(\\vec 0, \\sigma^2 I_n)$ restricted to the sphere \n",
    "# $$S=\\{y\\in\\mathbb{R}^3\\;|\\; \\|y-c\\|^2 < r^2\\}$$"
   ]
  },
  {
   "cell_type": "code",
   "execution_count": 6,
   "metadata": {},
   "outputs": [
    {
     "data": {
      "text/plain": [
       "0.74166"
      ]
     },
     "execution_count": 6,
     "metadata": {},
     "output_type": "execute_result"
    }
   ],
   "source": [
    "pae = 7  # input PAE\n",
    "c = 4  # distance between residues\n",
    "r = 10  # contact threshold in Angstroms \n",
    "k = 100000  # number of randomizations\n",
    "\n",
    "center = np.array([c, 0., 0.])\n",
    "dist = get_spherical_gaussian(pae)\n",
    "\n",
    "contact_prob = np.mean([int(np.dot(y-center, y-center) < r**2) for y in dist.rvs(size=k)])\n",
    "contact_prob"
   ]
  },
  {
   "cell_type": "markdown",
   "metadata": {},
   "source": [
    "# Wrap up:\n",
    "\n",
    "# How to compute the contact probability with these scripts?\n",
    "\n",
    "Given residues C and R, with C being the center of the contact volume:\n",
    "\n",
    "1) d = PAE(R, C) -- the one that evaluates the expected error on R if we align at C, provided by AlphaFold\n",
    "\n",
    "2) r = contact volume radius about C -- typically 10Å in our setting\n",
    "\n",
    "3) c = estimate of the distance between R and C -- provided by AlphaFold\n",
    "\n",
    "The contact probability, according to the spherical Gaussian model, can be computed with the following function:"
   ]
  },
  {
   "cell_type": "code",
   "execution_count": 7,
   "metadata": {},
   "outputs": [],
   "source": [
    "def contact_probability(d, r, c, k=10000):\n",
    "\n",
    "    center = np.array([c, 0., 0.])\n",
    "    dist = get_spherical_gaussian(d)\n",
    "    return np.mean([int(np.dot(y-center, y-center) < r**2) for y in dist.rvs(size=k)])"
   ]
  },
  {
   "cell_type": "code",
   "execution_count": 8,
   "metadata": {},
   "outputs": [
    {
     "data": {
      "text/plain": [
       "0.3392"
      ]
     },
     "execution_count": 8,
     "metadata": {},
     "output_type": "execute_result"
    }
   ],
   "source": [
    "d = 10\n",
    "r = 10\n",
    "c = 8\n",
    "\n",
    "contact_probability(d, r, c)"
   ]
  },
  {
   "cell_type": "markdown",
   "metadata": {},
   "source": [
    "# Test"
   ]
  },
  {
   "cell_type": "code",
   "execution_count": 9,
   "metadata": {},
   "outputs": [],
   "source": [
    "import pandas as pd\n",
    "import numpy as np\n",
    "from tqdm import tqdm\n",
    "from Bio.PDB.PDBParser import PDBParser\n",
    "from scipy.stats import pearsonr"
   ]
  },
  {
   "cell_type": "code",
   "execution_count": 10,
   "metadata": {},
   "outputs": [],
   "source": [
    "# Functions to compute the probability of contact\n",
    "\n",
    "def cap(r, h):\n",
    "    \"\"\"\n",
    "    Volume of the polar cap of the sphere with radius r and cap height h\n",
    "    \"\"\"\n",
    "    return pi * (3 * r - h) * h ** 2 / 3\n",
    "\n",
    "\n",
    "def vol(r):\n",
    "    \"\"\"\n",
    "    Volume of sphere with radius r\n",
    "    \"\"\"\n",
    "    return 4 * pi * r ** 3 / 3\n",
    "\n",
    "\n",
    "def s2_minus_s1(r1, r2, d):\n",
    "\n",
    "    \"\"\"\n",
    "    Volume of S2 outside of S1\n",
    "    r1: radius of S1\n",
    "    r2: radius of S2\n",
    "    d: distance between center of S1 and center of S2\n",
    "    \"\"\"\n",
    "\n",
    "    # S1 and S2 not in contact\n",
    "    if d > r1 + r2:\n",
    "        return vol(r2)\n",
    "\n",
    "    # S1 sits inside S2\n",
    "    elif (r2 > d + r1):\n",
    "        return vol(r2) - vol(r1)\n",
    "\n",
    "    # S2 sits inside S1\n",
    "    elif (r1 > d + r2):\n",
    "        return 0.\n",
    "\n",
    "    # Center of S2 is outside S1\n",
    "    elif d > r1:\n",
    "        h1 = (r2 ** 2 - (d - r1) ** 2) / (2 * d)\n",
    "        h2 = r1 - h1 + r2 - d\n",
    "        return vol(r2) - cap(r1, h1) - cap(r2, h2)\n",
    "\n",
    "    # Center of S2 is inside S1\n",
    "    elif d <= r1:\n",
    "        h1 = (r2 ** 2 - (r1 - d) ** 2) / (2 * d)\n",
    "        h2 = d - r1 + h1 + r2\n",
    "        return cap(r2, h2) - cap(r1, h1)"
   ]
  },
  {
   "cell_type": "code",
   "execution_count": 11,
   "metadata": {},
   "outputs": [],
   "source": [
    "# Other functions\n",
    "\n",
    "def get_structure(file):\n",
    "    \"\"\"\n",
    "    Use Bio.PDB to parse protein structure.\n",
    "    \"\"\"\n",
    "\n",
    "    id = file.split(\"AF-\")[1].split(\"-model_v1\")[0]\n",
    "\n",
    "    if file.endswith('.gz'):\n",
    "        with gzip.open(file, 'rt') as handle:\n",
    "            return PDBParser().get_structure(id=id, file=handle)[0]\n",
    "    else:\n",
    "        with open(file, 'r') as handle:\n",
    "            return PDBParser().get_structure(id=id, file=handle)[0]\n",
    "\n",
    "\n",
    "def get_dist_matrix(chain) :\n",
    "    \"\"\"\n",
    "    Compute the distance matrix between C-alpha of a protein.\n",
    "    \"\"\"\n",
    "\n",
    "    m = np.zeros((len(chain), len(chain)), float)\n",
    "\n",
    "    for i, res1 in enumerate(chain) :\n",
    "        for j, res2 in enumerate(chain) :\n",
    "            m[i, j] = abs(res1[\"CA\"] - res2[\"CA\"])\n",
    "\n",
    "    return m\n",
    "\n",
    "\n",
    "def get_contact_map(chain, distance=10):\n",
    "    \"\"\"\n",
    "    Compute the contact map between C-alpha of a protein.\n",
    "    \"\"\"\n",
    "\n",
    "    dist_matrix = get_dist_matrix(chain)\n",
    "\n",
    "    return dist_matrix < distance\n",
    "\n",
    "\n",
    "def get_prob_contact(pae_value, dmap_value, distance=10):\n",
    "    \"\"\"\n",
    "    Get probability of contact considering the distance\n",
    "    between residues in the predicted structure and the\n",
    "    Predicted Aligned Error (PAE).\n",
    "    \"\"\"\n",
    "\n",
    "    if pae_value == 0:\n",
    "\n",
    "        if dmap_value < distance:\n",
    "            return 1\n",
    "        else:\n",
    "            return 0\n",
    "\n",
    "    else:\n",
    "        # Get the volume of res2 outside of res1\n",
    "        vol_s2_out_s1 = s2_minus_s1(r1=distance, r2=pae_value, d=dmap_value)\n",
    "\n",
    "        # Get the probability that s2 is out of s1\n",
    "        p_s2_in_s1 = vol_s2_out_s1 / vol(pae_value)\n",
    "\n",
    "        return 1 - p_s2_in_s1\n",
    "\n",
    "\n",
    "def get_prob_cmap(chain, pae, distance=10) :\n",
    "    \"\"\"\n",
    "    Compute the probabilities that each pair of residue in a protein are\n",
    "    in contact taking into account the Predicted Aligned Error (PAE) and\n",
    "    the PDB structure predicted by AlphaFold 2\n",
    "    \"\"\"\n",
    "\n",
    "    m = np.zeros((len(chain), len(chain)), float)\n",
    "\n",
    "    for i, res1 in enumerate(chain):\n",
    "        for j, res2 in enumerate(chain):\n",
    "            d = abs(res1[\"CA\"] - res2[\"CA\"])\n",
    "            m[i, j] = get_prob_contact(pae[i, j], d, distance)\n",
    "\n",
    "    return m"
   ]
  },
  {
   "cell_type": "code",
   "execution_count": 24,
   "metadata": {},
   "outputs": [],
   "source": [
    "# New method and comparison\n",
    "\n",
    "def get_prob_cmap_alt(chain, pae, distance=10) :\n",
    "    \"\"\"\n",
    "    Compute the probabilities that each pair of residue in a protein are\n",
    "    in contact taking into account the Predicted Aligned Error (PAE) and\n",
    "    the PDB structure predicted by AlphaFold 2\n",
    "    \"\"\"\n",
    "\n",
    "    m = np.zeros((len(chain), len(chain)), float)\n",
    "\n",
    "    for i, res1 in enumerate(tqdm(chain, desc=\"Residue i\")):\n",
    "        for j, res2 in enumerate(chain):\n",
    "            d = abs(res1[\"CA\"] - res2[\"CA\"])\n",
    "            m[i, j] = 1 if i == j else contact_probability(pae[i, j], distance, d)\n",
    "\n",
    "    return m\n",
    "\n",
    "\n",
    "def compare_pcmaps(gene, seq_df, dataset_dir):\n",
    "    \"\"\"\n",
    "    Compute cmaps in two alternative approaches and Person \n",
    "    correlation between the resulting matrices.\n",
    "    \"\"\"\n",
    "    \n",
    "    uni_id = seq_df[seq_df[\"Gene\"] == gene].Uniprot_ID.values[0]\n",
    "    pdb_path = f\"{pdb_dir}/AF-{uni_id}-F1-model_v4.pdb\"\n",
    "    pae_path = f\"{pae_dir}/{uni_id}-F1-predicted_aligned_error.npy\"\n",
    "    \n",
    "    pdb = get_structure(pdb_path)[\"A\"]\n",
    "    pae = np.load(pae_path)\n",
    "    pcmap = get_prob_cmap(pdb, pae)\n",
    "    \n",
    "    pcmap_alt = get_prob_cmap_alt(pdb, pae)\n",
    "\n",
    "    corr, pval = pearsonr(pcmap.flatten(), pcmap_alt.flatten())\n",
    "    print(f\"Pearson correlation: {corr:.4f}, p-value: {pval:.4g}\")\n",
    "    \n",
    "    return pcmap, pcmap_alt, corr, pval"
   ]
  },
  {
   "cell_type": "code",
   "execution_count": 22,
   "metadata": {},
   "outputs": [],
   "source": [
    "dataset_dir = \"/data/bbg/nobackup/scratch/oncodrive3d/datasets_mane_240506\"\n",
    "pdb_dir = f\"{dataset_dir}/pdb_structures\"\n",
    "cmaps_dir = f\"{dataset_dir}/prob_cmaps\"\n",
    "pae_dir = f\"{dataset_dir}/pae\"\n",
    "\n",
    "seq_df = pd.read_table(f\"{dataset_dir}/seq_for_mut_prob.tsv\")"
   ]
  },
  {
   "cell_type": "code",
   "execution_count": 25,
   "metadata": {},
   "outputs": [
    {
     "name": "stderr",
     "output_type": "stream",
     "text": [
      "Residue i:   3%|▎         | 13/393 [01:43<50:32,  7.98s/it]"
     ]
    }
   ],
   "source": [
    "pcmap, pcmap_alt, corr, pval = compare_pcmaps(\"TP53\", seq_df, dataset_dir)"
   ]
  },
  {
   "cell_type": "code",
   "execution_count": null,
   "metadata": {},
   "outputs": [],
   "source": [
    "pcmap2, pcmap_alt2, corr2, pval2 = compare_pcmaps(\"KRAS\", seq_df, dataset_dir)"
   ]
  },
  {
   "cell_type": "code",
   "execution_count": null,
   "metadata": {},
   "outputs": [],
   "source": [
    "pcmap3, pcmap_alt3, corr3, pval3 = compare_pcmaps(\"CTNNB1\", seq_df, dataset_dir)"
   ]
  },
  {
   "cell_type": "code",
   "execution_count": null,
   "metadata": {},
   "outputs": [],
   "source": [
    "pcmap3, pcmap_alt3, corr3, pval3 = compare_pcmaps(\"PIK3CA\", seq_df, dataset_dir)"
   ]
  }
 ],
 "metadata": {
  "kernelspec": {
   "display_name": "o3d_nb",
   "language": "python",
   "name": "python3"
  },
  "language_info": {
   "codemirror_mode": {
    "name": "ipython",
    "version": 3
   },
   "file_extension": ".py",
   "mimetype": "text/x-python",
   "name": "python",
   "nbconvert_exporter": "python",
   "pygments_lexer": "ipython3",
   "version": "3.8.19"
  },
  "orig_nbformat": 4
 },
 "nbformat": 4,
 "nbformat_minor": 2
}
